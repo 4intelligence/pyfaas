{
 "metadata": {
  "language_info": {
   "codemirror_mode": {
    "name": "ipython",
    "version": 3
   },
   "file_extension": ".py",
   "mimetype": "text/x-python",
   "name": "python",
   "nbconvert_exporter": "python",
   "pygments_lexer": "ipython3",
   "version": "3.7.9"
  },
  "orig_nbformat": 2,
  "kernelspec": {
   "name": "python37964bitdlenvcondaa0691b1a914a49efb657f5c9c7c940ff",
   "display_name": "Python 3.7.9 64-bit ('dlenv': conda)"
  },
  "metadata": {
   "interpreter": {
    "hash": "1cf3630168b7ddc9f99bc7a6cab38fdce7a1aac8026b13908d5b1119ed587a08"
   }
  }
 },
 "nbformat": 4,
 "nbformat_minor": 2,
 "cells": [
  {
   "source": [
    "# FaaS API\n",
    "\n",
    "## Python examples"
   ],
   "cell_type": "markdown",
   "metadata": {}
  },
  {
   "cell_type": "code",
   "execution_count": null,
   "metadata": {},
   "outputs": [],
   "source": [
    "# Run this code if you are in a new environment (xlrd is required to read .xlsx files)\n",
    "!pip install xlrd"
   ]
  },
  {
   "cell_type": "code",
   "execution_count": 1,
   "metadata": {},
   "outputs": [],
   "source": [
    "# The only required library is pandas although datetime is recommended\n",
    "import pandas as pd"
   ]
  },
  {
   "cell_type": "code",
   "execution_count": 2,
   "metadata": {},
   "outputs": [],
   "source": [
    "# the faas_api function can be imported from faas.py file\n",
    "from pyfaas.faas import faas_api"
   ]
  },
  {
   "source": [
    "## Example 1: Predicting a single time series (Y)"
   ],
   "cell_type": "markdown",
   "metadata": {}
  },
  {
   "cell_type": "code",
   "execution_count": 4,
   "metadata": {},
   "outputs": [],
   "source": [
    "# ------ Define properties of the series -----------------\n",
    "project_id = \"teste_project_example\"\n",
    "\n",
    "# Set user email\n",
    "user_email = 'user@domain.com'\n",
    "\n",
    "# Set access key\n",
    "access_key = 'access_key'"
   ]
  },
  {
   "cell_type": "code",
   "execution_count": 14,
   "metadata": {},
   "outputs": [],
   "source": [
    "# ------ Load datasets -----------------------------------\n",
    "\n",
    "df_example = pd.read_excel(\"./inputs/dataset_1.xlsx\")\n",
    "\n",
    "# ------ Declare the date variable and its format --------\n",
    "\n",
    "date_variable = 'data_tidy'\n",
    "date_format = '%Y-%m-%d'\n",
    "\n",
    "# ------ Dataframes must be passed in a dictionary\n",
    "# ------ The key must be named after the variable of interest\n",
    "data_list = {'fs_pim': df_example}"
   ]
  },
  {
   "cell_type": "code",
   "execution_count": 15,
   "metadata": {},
   "outputs": [],
   "source": [
    "# ------ Define FaaS parameters ---------------------------\n",
    "model_spec = {\n",
    "    'n_steps': 3,\n",
    "    'n_windows': 6,\n",
    "}"
   ]
  },
  {
   "cell_type": "code",
   "execution_count": 1,
   "metadata": {},
   "outputs": [
    {
     "output_type": "stream",
     "name": "stdout",
     "text": [
      "HTTP 200:\nRequest successfully received!\nResults will soon be available in your Projects module\n"
     ]
    }
   ],
   "source": [
    "# ------ Call the function ---------------------------\n",
    "faas_api(data_list, date_variable, date_format, model_spec, project_id, user_email, access_key)"
   ]
  },
  {
   "source": [
    "## Example 2: Predicting multiple time series (Ys)"
   ],
   "cell_type": "markdown",
   "metadata": {}
  },
  {
   "cell_type": "code",
   "execution_count": 9,
   "metadata": {},
   "outputs": [],
   "source": [
    "# ------ Define properties of the series -----------------\n",
    "project_id = \"project_example_2\"\n",
    "\n",
    "user_email = 'user@domain.com'"
   ]
  },
  {
   "cell_type": "code",
   "execution_count": null,
   "metadata": {},
   "outputs": [],
   "source": [
    "# ------ Load datasets -----------------------------------\n",
    "\n",
    "df_example1 = pd.read_excel(\"./inputs/dataset_1.xlsx\")\n",
    "df_example2 = pd.read_excel(\"./inputs/dataset_2.xlsx\")\n",
    "df_example3 = pd.read_excel(\"./inputs/dataset_3.xlsx\")\n",
    "\n",
    "\n",
    "# ------ Declare the date variable and its format --------\n",
    "\n",
    "date_variable = 'data_tidy'\n",
    "date_format = '%Y-%m-%d'\n",
    "\n",
    "# ------ Dataframes must be passed in a dictionary\n",
    "# ------ The keys must be named after the variable of interest\n",
    "data_list = {'fs_pim': df_example1,\n",
    "             'fs_pmc': df_example2,\n",
    "             'fs_pib': df_example3}"
   ]
  },
  {
   "cell_type": "code",
   "execution_count": null,
   "metadata": {},
   "outputs": [],
   "source": [
    "# ------ Define FaaS parameters ---------------------------\n",
    "model_spec = {\n",
    "    'n_steps': 3,\n",
    "    'n_windows': 6,\n",
    "    }"
   ]
  },
  {
   "cell_type": "code",
   "execution_count": 2,
   "metadata": {},
   "outputs": [
    {
     "output_type": "stream",
     "name": "stdout",
     "text": [
      "HTTP 200:\nRequest successfully received!\nResults will soon be available in your Projects module\n"
     ]
    }
   ],
   "source": [
    "# ------ Call the function ---------------------------\n",
    "faas_api(data_list, date_variable, date_format, model_spec, project_id, user_email, access_key)"
   ]
  },
  {
   "cell_type": "code",
   "execution_count": null,
   "metadata": {},
   "outputs": [],
   "source": []
  }
 ]
}